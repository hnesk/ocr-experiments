{
 "cells": [
  {
   "cell_type": "code",
   "execution_count": 1,
   "metadata": {},
   "outputs": [],
   "source": [
    "import os\n",
    "import cv2\n",
    "import numpy as np\n",
    "from pathlib import Path\n",
    "from contextlib import contextmanager\n",
    "\n",
    "from ocrd import Resolver,Workspace\n",
    "from ocrd_utils import polygon_from_points, MIMETYPE_PAGE\n",
    "from ocrd_modelfactory import page_from_file\n",
    "from matplotlib import pyplot as plt\n",
    "\n",
    "from skimage import morphology\n",
    "from skimage.color import rgb2gray\n",
    "from skimage.filters import window, difference_of_gaussians\n",
    "from scipy.fftpack import fft2, fftshift\n",
    "from scipy import ndimage as ndi\n",
    "from skimage.registration import phase_cross_correlation\n",
    "from skimage.transform import warp_polar, warp, rotate, rescale,AffineTransform, SimilarityTransform\n",
    "\n"
   ]
  },
  {
   "cell_type": "code",
   "execution_count": 2,
   "metadata": {},
   "outputs": [],
   "source": [
    "project_dir = Path.cwd() / 'data' / 'kant' \n",
    "ws = Workspace(Resolver(), str(project_dir))\n"
   ]
  },
  {
   "cell_type": "code",
   "execution_count": 3,
   "metadata": {},
   "outputs": [],
   "source": [
    "\"\"\"\n",
    "General helper functions \n",
    "\"\"\"\n",
    "\n",
    "@contextmanager\n",
    "def working_directory(path):\n",
    "    \"\"\" \n",
    "    chdir(path) and back again\n",
    "    \"\"\"\n",
    "    prev_cwd = Path.cwd()\n",
    "    os.chdir(path)\n",
    "    try:\n",
    "        yield\n",
    "    finally:\n",
    "        os.chdir(prev_cwd)\n",
    "        \n",
    "\n",
    "def get_page(pageId, fileGrp):\n",
    "    \"\"\"\n",
    "    Get PAGE-Xml PcGts root element for a pageId and fileGrp\n",
    "    \"\"\"\n",
    "    with working_directory(project_dir):\n",
    "        file = list(ws.mets.find_files(pageId=pageId, fileGrp=fileGrp, mimetype=MIMETYPE_PAGE))[0]\n",
    "        pcgts = page_from_file(file)\n",
    "        return pcgts\n",
    "\n",
    "\n",
    "def get_polys(elements):\n",
    "    \"\"\"\n",
    "    Collect the polygon outlines of elements in a numpy array\n",
    "    \"\"\"\n",
    "    polys = []\n",
    "    for el in elements:\n",
    "        polys.append(np.array(polygon_from_points(el.get_Coords().points), dtype='int32'))\n",
    "    return polys\n",
    "\n",
    "\n",
    "def line_mask(page):\n",
    "    \"\"\"\n",
    "    Draw a textline mask for page\n",
    "    \"\"\"\n",
    "    mask = np.zeros((page.get_imageHeight(), page.get_imageWidth()), dtype='uint8')\n",
    "    elements = [line for text_region in page.get_TextRegion() for line in text_region.get_TextLine() ]\n",
    "    polys = get_polys(elements)\n",
    "    cv2.fillPoly(mask, polys, 1)     \n",
    "    return mask\n",
    "\n",
    "\n",
    "def region_mask(page):\n",
    "    \"\"\"\n",
    "    Draw a textline mask for page\n",
    "    \"\"\"\n",
    "    mask = np.zeros((page.get_imageHeight(), page.get_imageWidth()), dtype='uint8')\n",
    "    elements = [text_region for text_region in page.get_TextRegion()]\n",
    "    polys = get_polys(elements)\n",
    "    cv2.fillPoly(mask, polys, 1)     \n",
    "    return mask\n",
    "\n",
    "def shrink(images):\n",
    "    \"\"\"\n",
    "    crop all images in a list of images to the same (smallest) width/height  \n",
    "    \"\"\"\n",
    "    padded_images = []\n",
    "    shape = np.min([image.shape for image in images], axis=0)\n",
    "    for image in images:\n",
    "        #padded_image = container.copy()\n",
    "        padded_image = image[:shape[0],:shape[1]].copy()\n",
    "        padded_images.append(padded_image)\n",
    "        \n",
    "    return padded_images\n",
    "\n",
    "def post_process(mask):\n",
    "    mask = cv2.morphologyEx(mask, cv2.MORPH_OPEN, cv2.getStructuringElement(cv2.MORPH_ELLIPSE, (15,5)), iterations=1)\n",
    "    #mx = np.min(mask.shape)\n",
    "    #mask = mask[:mx,:mx]\n",
    "    return mask\n",
    "\n",
    "\n",
    "def align_simple(template, page):\n",
    "    shift, error, phase = phase_cross_correlation(template, page, upsample_factor=20)\n",
    "    return shift[1], shift[0], 0, 1, error\n",
    "    \n",
    "    \n",
    "def align_polar(template, page):\n",
    "    center = (100,100)\n",
    "    radius = np.linalg.norm(np.array(template.shape[:2])-center)\n",
    "\n",
    "    template_polar = warp_polar(template, radius=radius, scaling='log', center = center)\n",
    "    page_polar = warp_polar(page, radius=radius, scaling='log', center = center)    \n",
    "        \n",
    "    (shift_py,shift_px), error, phase = phase_cross_correlation(template_polar, page_polar, upsample_factor=50)\n",
    "\n",
    "    # Calculate scale factor from translation\n",
    "    rotation = -shift_py\n",
    "    klog = radius / np.log(radius)\n",
    "    shift_scale = np.exp(shift_px / klog)\n",
    "\n",
    "    page_rs = rescale(rotate(page.copy(), rotation), shift_scale)\n",
    "    \n",
    "    template,page_rs = shrink([template,page_rs])\n",
    "\n",
    "\n",
    "    shift, error, phase = phase_cross_correlation(template, page_rs, upsample_factor=20)\n",
    "        \n",
    "    return shift[1], shift[0], rotation, shift_scale, error\n",
    "\n",
    "\n",
    "def _preprocess_fft(image):\n",
    "    image = difference_of_gaussians(image.copy(), 5, 20)\n",
    "    wimage = image * window('hann', image.shape)\n",
    "    # work with shifted FFT magnitudes\n",
    "    image_fs = np.abs(fftshift(fft2(wimage)))\n",
    "    return image_fs\n",
    "    \n",
    "\n",
    "def align_polar_fft(template, page, cut = 8):\n",
    "    template_fs = _preprocess_fft(template)\n",
    "    page_fs = _preprocess_fft(page)\n",
    "\n",
    "    shape = page_fs.shape\n",
    "    radius = shape[0] // cut  # only take lower frequencies\n",
    "\n",
    "    template_p_fs = warp_polar(template_fs, radius=radius, output_shape=shape,scaling='log', order=0)\n",
    "    page_p_fs = warp_polar(page_fs, radius=radius, output_shape=shape,scaling='log', order=0)\n",
    "\n",
    "    template_p_fs = template_p_fs[:shape[0] // 2, :]  # only use half of FFT\n",
    "    page_p_fs = page_p_fs[:shape[0] // 2, :]\n",
    "    shifts, error, phasediff = phase_cross_correlation(template_p_fs, page_p_fs, upsample_factor=100)\n",
    "            \n",
    "    shiftr, shiftc = shifts[:2]\n",
    "    rotation = -(360 / shape[1]) * shiftr\n",
    "    klog = shape[1] / np.log(radius)\n",
    "    shift_scale = 1/np.exp(shiftc / klog)\n",
    "    \n",
    "    \n",
    "    page_rs = rescale(rotate(page.copy(),rotation),shift_scale)\n",
    "    \n",
    "    template,page_rs = shrink([template,page_rs])\n",
    "    \n",
    "    shift, error, phase = phase_cross_correlation(template, page_rs, upsample_factor=20)\n",
    "    \n",
    "    return shift[1], shift[0], rotation, shift_scale, error\n"
   ]
  },
  {
   "cell_type": "code",
   "execution_count": 4,
   "metadata": {},
   "outputs": [
    {
     "data": {
      "text/plain": [
       "['phys_0007',\n",
       " 'phys_0008',\n",
       " 'phys_0009',\n",
       " 'phys_0010',\n",
       " 'phys_0011',\n",
       " 'phys_0012',\n",
       " 'phys_0013',\n",
       " 'phys_0014',\n",
       " 'phys_0015',\n",
       " 'phys_0016',\n",
       " 'phys_0017',\n",
       " 'phys_0018',\n",
       " 'phys_0019',\n",
       " 'phys_0020']"
      ]
     },
     "execution_count": 4,
     "metadata": {},
     "output_type": "execute_result"
    }
   ],
   "source": [
    "ws.mets.physical_pages"
   ]
  },
  {
   "cell_type": "code",
   "execution_count": 5,
   "metadata": {},
   "outputs": [
    {
     "data": {
      "application/vnd.jupyter.widget-view+json": {
       "model_id": "15f09dda5c104120ba1bf88eefad7a2c",
       "version_major": 2,
       "version_minor": 0
      },
      "text/plain": [
       "Canvas(toolbar=Toolbar(toolitems=[('Home', 'Reset original view', 'home', 'home'), ('Back', 'Back to previous …"
      ]
     },
     "metadata": {},
     "output_type": "display_data"
    },
    {
     "data": {
      "text/plain": [
       "<matplotlib.image.AxesImage at 0x7f77415eaed0>"
      ]
     },
     "execution_count": 5,
     "metadata": {},
     "output_type": "execute_result"
    }
   ],
   "source": [
    "%matplotlib widget\n",
    "page_id = 'phys_0007'\n",
    "template_page_id = 'phys_0009'\n",
    "page_seg = get_page(template_page_id,'OCR-D-SEG-LINE')\n",
    "page = get_page(page_id,'OCR-D-SEG-LINE')\n",
    "\n",
    "template_mask = post_process(line_mask(page_seg.get_Page()))\n",
    "page_mask = post_process(line_mask(page.get_Page()))\n",
    "\n",
    "#page_mask = rescale(rotate(ndi.shift(page_mask, (0,120)),-12.0),1.04)\n",
    "\n",
    "template_mask, page_mask = shrink([template_mask, page_mask])\n",
    "\n",
    "plt.imshow(template_mask, alpha=1)\n",
    "plt.imshow(page_mask, alpha=0.7)\n",
    "\n",
    "\n"
   ]
  },
  {
   "cell_type": "code",
   "execution_count": 6,
   "metadata": {},
   "outputs": [
    {
     "data": {
      "text/plain": [
       "(16.6, -12.25, 0, 1.0, 0.7368726272592879)"
      ]
     },
     "metadata": {},
     "output_type": "display_data"
    },
    {
     "data": {
      "text/plain": [
       "(23.8, -0.1, -0.1, 1.0093738400203942, 0.7285860336246065)"
      ]
     },
     "metadata": {},
     "output_type": "display_data"
    },
    {
     "data": {
      "text/plain": [
       "(36.45, 18.9, 0.014824982841455043, 1.02273391579434, 0.72667429093788)"
      ]
     },
     "metadata": {},
     "output_type": "display_data"
    }
   ],
   "source": [
    "shiftx, shifty, rotation, scale, error = align_simple(template_mask, page_mask)\n",
    "display((shiftx, shifty, -rotation, 1/scale, error))\n",
    "\n",
    "shiftx, shifty, rotation, scale, error = align_polar(template_mask, page_mask)\n",
    "display((shiftx, shifty, -rotation, 1/scale, error))\n",
    "\n",
    "shiftx, shifty, rotation, scale, error = align_polar_fft(template_mask, page_mask, cut = 8)\n",
    "display((shiftx, shifty, -rotation, 1/scale, error))\n"
   ]
  },
  {
   "cell_type": "code",
   "execution_count": 7,
   "metadata": {},
   "outputs": [
    {
     "data": {
      "application/vnd.jupyter.widget-view+json": {
       "model_id": "0fab5b9072314a16b842794525a38954",
       "version_major": 2,
       "version_minor": 0
      },
      "text/plain": [
       "Canvas(toolbar=Toolbar(toolitems=[('Home', 'Reset original view', 'home', 'home'), ('Back', 'Back to previous …"
      ]
     },
     "metadata": {},
     "output_type": "display_data"
    },
    {
     "data": {
      "text/plain": [
       "<matplotlib.image.AxesImage at 0x7f7740542f10>"
      ]
     },
     "execution_count": 7,
     "metadata": {},
     "output_type": "execute_result"
    }
   ],
   "source": [
    "%matplotlib widget\n",
    "\n",
    "page_mask_rec = ndi.shift(rescale(rotate(page_mask,rotation),scale),(shifty,shiftx))\n",
    "\n",
    "template_mask_display, page_mask_rec = shrink([template_mask, page_mask_rec])\n",
    "\n",
    "plt.imshow(template_mask_display, alpha=1)\n",
    "plt.imshow(page_mask_rec, alpha=0.7)\n",
    "\n"
   ]
  },
  {
   "cell_type": "code",
   "execution_count": null,
   "metadata": {},
   "outputs": [],
   "source": []
  }
 ],
 "metadata": {
  "kernelspec": {
   "display_name": "Python 3",
   "language": "python",
   "name": "python3"
  },
  "language_info": {
   "codemirror_mode": {
    "name": "ipython",
    "version": 3
   },
   "file_extension": ".py",
   "mimetype": "text/x-python",
   "name": "python",
   "nbconvert_exporter": "python",
   "pygments_lexer": "ipython3",
   "version": "3.7.9"
  }
 },
 "nbformat": 4,
 "nbformat_minor": 4
}
