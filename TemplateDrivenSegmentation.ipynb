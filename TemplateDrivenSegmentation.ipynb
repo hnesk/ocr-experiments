{
 "cells": [
  {
   "cell_type": "code",
   "execution_count": 2,
   "metadata": {},
   "outputs": [],
   "source": [
    "from pathlib import Path\n",
    "from ocrd import Resolver,Workspace"
   ]
  },
  {
   "cell_type": "code",
   "execution_count": 4,
   "metadata": {},
   "outputs": [
    {
     "data": {
      "text/plain": [
       "['phys_0001',\n",
       " 'phys_0002',\n",
       " 'phys_0003',\n",
       " 'phys_0004',\n",
       " 'phys_0005',\n",
       " 'phys_0006',\n",
       " 'phys_0007',\n",
       " 'phys_0008',\n",
       " 'phys_0009',\n",
       " 'phys_0010',\n",
       " 'phys_0011',\n",
       " 'phys_0012',\n",
       " 'phys_0013',\n",
       " 'phys_0014',\n",
       " 'phys_0015',\n",
       " 'phys_0016',\n",
       " 'phys_0017',\n",
       " 'phys_0018',\n",
       " 'phys_0019',\n",
       " 'phys_0020']"
      ]
     },
     "execution_count": 4,
     "metadata": {},
     "output_type": "execute_result"
    }
   ],
   "source": [
    "project_dir = Path.cwd() / 'data' / 'kant' \n",
    "ws = Workspace(Resolver(), str(project_dir))\n",
    "#os.chdir(project)\n",
    "ws.mets.physical_pages\n"
   ]
  },
  {
   "cell_type": "code",
   "execution_count": null,
   "metadata": {},
   "outputs": [],
   "source": []
  }
 ],
 "metadata": {
  "kernelspec": {
   "display_name": "Minimal OCR-D",
   "language": "python",
   "name": "venv"
  },
  "language_info": {
   "codemirror_mode": {
    "name": "ipython",
    "version": 3
   },
   "file_extension": ".py",
   "mimetype": "text/x-python",
   "name": "python",
   "nbconvert_exporter": "python",
   "pygments_lexer": "ipython3",
   "version": "3.8.5"
  }
 },
 "nbformat": 4,
 "nbformat_minor": 4
}
